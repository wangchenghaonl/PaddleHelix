{
  "nbformat": 4,
  "nbformat_minor": 0,
  "metadata": {
    "colab": {
      "provenance": [],
      "authorship_tag": "ABX9TyMYMRxrAfS1fGmvNFKvy1LB",
      "include_colab_link": true
    },
    "kernelspec": {
      "name": "python3",
      "display_name": "Python 3"
    },
    "language_info": {
      "name": "python"
    }
  },
  "cells": [
    {
      "cell_type": "markdown",
      "metadata": {
        "id": "view-in-github",
        "colab_type": "text"
      },
      "source": [
        "<a href=\"https://colab.research.google.com/github/wangchenghaonl/PaddleHelix/blob/dev/Untitled0.ipynb\" target=\"_parent\"><img src=\"https://colab.research.google.com/assets/colab-badge.svg\" alt=\"Open In Colab\"/></a>"
      ]
    },
    {
      "cell_type": "code",
      "source": [
        "!wget https://developer.download.nvidia.com/compute/cuda/repos/ubuntu2004/x86_64/cuda-ubuntu2004.pin --no-check-certificate\n",
        "!sudo mv cuda-ubuntu2004.pin /etc/apt/preferences.d/cuda-repository-pin-600\n",
        "!wget https://developer.download.nvidia.com/compute/cuda/11.6.0/local_installers/cuda-repo-ubuntu2004-11-6-local_11.6.0-510.39.01-1_amd64.deb --no-check-certificate\n",
        "!sudo dpkg -i cuda-repo-ubuntu2004-11-6-local_11.6.0-510.39.01-1_amd64.deb\n",
        "!sudo apt-key add /var/cuda-repo-ubuntu2004-11-6-local/7fa2af80.pub\n",
        "!sudo apt-get update\n",
        "!sudo apt-get -y install **cuda-11-6**"
      ],
      "metadata": {
        "id": "EcFM2wTQ6upS"
      },
      "execution_count": null,
      "outputs": []
    },
    {
      "cell_type": "code",
      "source": [
        "import os\n",
        "p = os.getenv('PATH')\n",
        "ld = os.getenv('LD_LIBRARY_PATH')\n",
        "os.environ['PATH'] = f\"/usr/local/cuda-11.6/bin:{p}\"\n",
        "os.environ['LD_LIBRARY_PATH'] = f\"/usr/local/cuda-11.6/lib64:{ld}\"\n",
        "!nvcc --version\n"
      ],
      "metadata": {
        "id": "yElCn3ez9aFb"
      },
      "execution_count": null,
      "outputs": []
    },
    {
      "cell_type": "code",
      "source": [
        "!!wget -c https://repo.anaconda.com/miniconda/Miniconda3-py37_4.10.3-Linux-x86_64.sh --no-check-certificate\n",
        "!ls\n",
        "!chmod +x Miniconda3-py37_4.10.3-Linux-x86_64.sh"
      ],
      "metadata": {
        "id": "7vLY7DmcHTQn"
      },
      "execution_count": null,
      "outputs": []
    },
    {
      "cell_type": "code",
      "source": [
        "%env PYTHONPATH=\n",
        "!./Miniconda3-py37_4.10.3-Linux-x86_64.sh -b -f -p /usr/local"
      ],
      "metadata": {
        "id": "XvFenWFRIxq3"
      },
      "execution_count": null,
      "outputs": []
    },
    {
      "cell_type": "code",
      "source": [
        "import sys\n",
        "_ = (sys.path.append(\"/usr/local/lib/python3.7/site-packages\"))"
      ],
      "metadata": {
        "id": "qrivAG6nJCsV"
      },
      "execution_count": null,
      "outputs": []
    },
    {
      "cell_type": "code",
      "source": [
        "!wget -c https://ms-release.obs.cn-north-4.myhuaweicloud.com/2.0.0rc1/MindSpore/unified/x86_64/mindspore-2.0.0rc1-cp37-cp37m-linux_x86_64.whl --no-check-certificate"
      ],
      "metadata": {
        "id": "73LqkJB2JD9I"
      },
      "execution_count": null,
      "outputs": []
    },
    {
      "cell_type": "code",
      "source": [
        "!pip install ./mindspore-2.0.0rc1-cp37-cp37m-linux_x86_64.whl"
      ],
      "metadata": {
        "id": "aq5nbkczKEwR"
      },
      "execution_count": null,
      "outputs": []
    },
    {
      "cell_type": "code",
      "source": [
        "!python -c \"import mindspore;mindspore.run_check()\""
      ],
      "metadata": {
        "id": "kSK2qflmK-ZW"
      },
      "execution_count": null,
      "outputs": []
    },
    {
      "cell_type": "code",
      "source": [
        "!nvcc --version\n",
        "!sudo lsb_release -a"
      ],
      "metadata": {
        "colab": {
          "base_uri": "https://localhost:8080/"
        },
        "id": "7XKXovtQ-N8s",
        "outputId": "be098c57-a2a8-450e-8a5f-d9da101701eb"
      },
      "execution_count": null,
      "outputs": [
        {
          "output_type": "stream",
          "name": "stdout",
          "text": [
            "nvcc: NVIDIA (R) Cuda compiler driver\n",
            "Copyright (c) 2005-2022 NVIDIA Corporation\n",
            "Built on Wed_Sep_21_10:33:58_PDT_2022\n",
            "Cuda compilation tools, release 11.8, V11.8.89\n",
            "Build cuda_11.8.r11.8/compiler.31833905_0\n",
            "No LSB modules are available.\n",
            "Distributor ID:\tUbuntu\n",
            "Description:\tUbuntu 20.04.5 LTS\n",
            "Release:\t20.04\n",
            "Codename:\tfocal\n"
          ]
        }
      ]
    },
    {
      "cell_type": "code",
      "source": [
        "%%bash\n",
        "# wget https://developer.download.nvidia.com/compute/cuda/repos/ubuntu2004/x86_64/cuda-ubuntu2004.pin \n",
        "\n",
        "# sudo mv cuda-ubuntu2004.pin /etc/apt/preferences.d/cuda-repository-pin-600\n",
        "# sudo apt-key adv --fetch-keys https://developer.download.nvidia.com/compute/cuda/repos/ubuntu2004}/x86_64/3bf863cc.pub\n",
        "# sudo add-apt-repository \"deb https://developer.download.nvidia.com/compute/cuda/repos/ubuntu2004/x86_64/ /\"\n",
        "# sudo apt-get update\n",
        "nvcc --version"
      ],
      "metadata": {
        "id": "d_0AQ1yZOYmT"
      },
      "execution_count": null,
      "outputs": []
    },
    {
      "cell_type": "code",
      "source": [
        "!wget https://developer.nvidia.com/downloads/compute/cudnn/secure/8.9.1/local_installers/11.8/cudnn-linux-x86_64-8.9.1.23_cuda11-archive.tar.xz/ --no-check-certificate"
      ],
      "metadata": {
        "id": "W9uCK3OL_C0m"
      },
      "execution_count": null,
      "outputs": []
    },
    {
      "cell_type": "code",
      "source": [
        "!git clone https://gitee.com/mindspore/mindscience.git"
      ],
      "metadata": {
        "id": "ElxDXJrAFc_m"
      },
      "execution_count": null,
      "outputs": []
    },
    {
      "cell_type": "code",
      "source": [
        "!cd ./mindscience/MindSPONGE && bash build.sh -e gpu -j 8"
      ],
      "metadata": {
        "id": "Ig6IXKbSGNCG"
      },
      "execution_count": null,
      "outputs": []
    },
    {
      "cell_type": "code",
      "source": [
        "!python3 -m pip install --user --upgrade pip==22.3.1"
      ],
      "metadata": {
        "id": "akUvVfdYGkpk"
      },
      "execution_count": null,
      "outputs": []
    },
    {
      "cell_type": "code",
      "source": [
        "!python3 -m pip install ./mindscience/MindSPONGE/output/mindsponge_gpu-1.0.0-py3-none-any.whl\n"
      ],
      "metadata": {
        "id": "ay5whssjHBHi"
      },
      "execution_count": null,
      "outputs": []
    },
    {
      "cell_type": "code",
      "source": [
        "!pip list"
      ],
      "metadata": {
        "id": "QzktOEd-NBFQ"
      },
      "execution_count": null,
      "outputs": []
    },
    {
      "cell_type": "code",
      "source": [
        "!cat /usr/local/cuda/include/cudnn.h"
      ],
      "metadata": {
        "id": "8ZCbwAr6NEUt"
      },
      "execution_count": null,
      "outputs": []
    },
    {
      "cell_type": "code",
      "source": [
        "!cd ./mindscience/MindSPONGE/applications/research/FAAST && sh ./install.sh"
      ],
      "metadata": {
        "id": "fBPf3201WvRD"
      },
      "execution_count": null,
      "outputs": []
    },
    {
      "cell_type": "code",
      "source": [
        "!pip list"
      ],
      "metadata": {
        "id": "F5i2XjeNZob0"
      },
      "execution_count": null,
      "outputs": []
    },
    {
      "cell_type": "code",
      "source": [
        "!ls ./mindscience/MindSPONGE/applications/research/FAAST"
      ],
      "metadata": {
        "id": "_RVfsPmgZtMx"
      },
      "execution_count": null,
      "outputs": []
    },
    {
      "cell_type": "code",
      "source": [
        "!wget https://download.mindspore.cn/mindscience/mindsponge/FAAST/checkpoint/RASP.ckpt --no-check-certificate"
      ],
      "metadata": {
        "id": "YajOAMbhcNs6"
      },
      "execution_count": null,
      "outputs": []
    },
    {
      "cell_type": "code",
      "source": [
        "!ls cudnn-*-archive/include/\n",
        "# !tar -xvf cudnn.tar"
      ],
      "metadata": {
        "id": "ZjappAk3gLTi"
      },
      "execution_count": null,
      "outputs": []
    },
    {
      "cell_type": "code",
      "source": [
        "!sudo cp cudnn-*-archive/include/cudnn*.h /usr/local/cuda/include && sudo cp -P cudnn-*-archive/lib/libcudnn* /usr/local/cuda/lib64 && sudo chmod a+r /usr/local/cuda/include/cudnn*.h /usr/local/cuda/lib64/libcudnn*"
      ],
      "metadata": {
        "id": "kKcgqdIlhUIr"
      },
      "execution_count": null,
      "outputs": []
    },
    {
      "cell_type": "code",
      "source": [
        "!nvidia-smi"
      ],
      "metadata": {
        "colab": {
          "base_uri": "https://localhost:8080/"
        },
        "id": "HhxKXKDkjGVD",
        "outputId": "9c29f5f0-77c7-41e7-e791-eaa16f11e3a4"
      },
      "execution_count": null,
      "outputs": [
        {
          "output_type": "stream",
          "name": "stdout",
          "text": [
            "/bin/bash: nvidia-smi: command not found\n"
          ]
        }
      ]
    },
    {
      "cell_type": "code",
      "source": [
        "!wget https://download.mindspore.cn/mindscience/mindsponge/FAAST/tmp/cudnn.tar --no-check-certificate"
      ],
      "metadata": {
        "id": "09Y-2YyTfrWV"
      },
      "execution_count": null,
      "outputs": []
    }
  ]
}